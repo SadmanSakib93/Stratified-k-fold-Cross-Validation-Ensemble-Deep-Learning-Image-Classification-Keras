{
  "cells": [
    {
      "cell_type": "markdown",
      "metadata": {
        "id": "NqsdF0XQos_l"
      },
      "source": [
        "# Add all necessary libraries!"
      ]
    },
    {
      "cell_type": "code",
      "execution_count": 1,
      "metadata": {
        "id": "JgKtTVe4ooDl"
      },
      "outputs": [],
      "source": [
        "\"\"\"\n",
        "@author: Sadman Sakib\n",
        "\"\"\"\n",
        "\n",
        "import numpy as np\n",
        "from sklearn.metrics import accuracy_score, f1_score, precision_score, confusion_matrix\n",
        "from sklearn.model_selection import StratifiedKFold\n",
        "from PIL import Image\n",
        "import random\n",
        "import tensorflow as tf\n",
        "from tensorflow.keras.models import Sequential\n",
        "from keras.preprocessing.image import ImageDataGenerator\n",
        "from tensorflow.keras.layers import Dense, Dropout, Flatten, Conv2D, MaxPooling2D, GlobalAveragePooling2D\n",
        "\n",
        "from tensorflow.compat.v1 import ConfigProto\n",
        "from tensorflow.compat.v1 import InteractiveSession\n",
        "import warnings\n",
        "import os\n",
        "import shutil\n",
        "from PIL import ImageFile\n",
        "warnings.simplefilter('error', Image.DecompressionBombWarning)\n",
        "ImageFile.LOAD_TRUNCATED_IMAGES = True\n",
        "Image.MAX_IMAGE_PIXELS = 1000000000\n",
        "config = ConfigProto()\n",
        "config.gpu_options.allow_growth = True\n",
        "session = InteractiveSession(config=config)\n"
      ]
    },
    {
      "cell_type": "code",
      "execution_count": 2,
      "metadata": {},
      "outputs": [],
      "source": [
        "# Make it False if do not intend to use Google Colab and want to train in local machine!!\n",
        "google_colab_flag = False\n",
        "\n",
        "# For training in Google Colab\n",
        "if(google_colab_flag):\n",
        "    from google.colab import drive\n",
        "    drive.mount('/content/drive')\n",
        "    !ls\n",
        "    import sys\n",
        "    # This is the path to where in google drive the code is stored!\n",
        "    root_path = '/content/drive/My Drive/Practice/Stratified-k-fold-cross-validation-Image-classification-keras/'\n",
        "    sys.path.append(root_path)\n",
        "\n",
        "# For local training\n",
        "else:\n",
        "    root_path = ''"
      ]
    },
    {
      "cell_type": "code",
      "execution_count": 3,
      "metadata": {
        "id": "wnJCDGu4o5r-"
      },
      "outputs": [],
      "source": [
        "dataset_folder_name = os.path.join(root_path, 'DS')\n",
        "source_files = []\n",
        "class_labels = ['circles', 'squares', 'triangles'] # Change the class names according to your dataset. These names should be the same as the folder names inside train/test/validation\n",
        "X = []\n",
        "Y = []\n",
        "\n",
        "img_rows, img_cols = 100, 100  # input image dimensions\n",
        "train_path = os.path.join(dataset_folder_name, 'train')\n",
        "validation_path = os.path.join(dataset_folder_name, 'validation')\n",
        "test_path = os.path.join(dataset_folder_name, 'test')\n"
      ]
    },
    {
      "cell_type": "code",
      "execution_count": 4,
      "metadata": {
        "id": "Vk22FJ2lo980"
      },
      "outputs": [],
      "source": [
        "def transfer_between_folders(source, dest, split_rate):\n",
        "    \"\"\" Based on the split ratio this function moves some portion of the source folder to destination folder!\n",
        "\n",
        "        Args:\n",
        "            source: str\n",
        "                Source folder's path\n",
        "            dest: str\n",
        "                Destination folder's path\n",
        "            split_rate: float\n",
        "                Ratio of files to move from source to dest locaiton\n",
        "\n",
        "    \"\"\"\n",
        "    global source_files\n",
        "    source_files = os.listdir(source)\n",
        "    if(len(source_files) != 0):\n",
        "        transfer_file_numbers = int(len(source_files)*split_rate)\n",
        "        transfer_index = random.sample(\n",
        "            range(0, len(source_files)), transfer_file_numbers)\n",
        "        for each_index in transfer_index:\n",
        "            shutil.move(os.path.join(source, str(source_files[each_index])), os.path.join(\n",
        "                dest, str(source_files[each_index])))\n",
        "\n",
        "    else:\n",
        "        print(\"No file moved. Source empty!\")\n",
        "\n",
        "\n",
        "def transfer_all_class_between_folders(source, dest, split_rate):\n",
        "    \"\"\" Transfer the files from source to dest for all the classes. This function calls the 'transfer_between_folders' to actually perform the transfer.\n",
        "\n",
        "        Args:\n",
        "            source: str\n",
        "                Source folder's path\n",
        "            dest: str\n",
        "                Destination folder's path\n",
        "            split_rate: float\n",
        "                Ratio of files to move from source to dest locaiton\n",
        "\n",
        "    \"\"\"\n",
        "    for label in class_labels:\n",
        "        transfer_between_folders(os.path.join(dataset_folder_name, source, label),\n",
        "                                 os.path.join(\n",
        "                                     dataset_folder_name, dest, label),\n",
        "                                 split_rate)\n",
        "\n",
        "\n",
        "def my_metrics(y_true, y_pred):\n",
        "    \"\"\" Calculate accuracy, precision, and f1 score of the model's prediction with respect to true labels.\n",
        "\n",
        "        Args:\n",
        "            y_true: list/array\n",
        "                All true class labels\n",
        "            y_pred: list/array\n",
        "                All predicted class labels\n",
        "\n",
        "        Returns:\n",
        "            accuracy: float\n",
        "                Accuracy measure of the model\n",
        "            precision: float\n",
        "                Precision measure of the model\n",
        "            f1_Score: float\n",
        "                F1-score measure of the model\n",
        "\n",
        "    \"\"\"\n",
        "    accuracy = accuracy_score(y_true, y_pred)\n",
        "    precision = precision_score(y_true, y_pred, average='weighted')\n",
        "    f1_Score = f1_score(y_true, y_pred, average='weighted')\n",
        "    print(\"Accuracy  : {}\".format(accuracy))\n",
        "    print(\"Precision : {}\".format(precision))\n",
        "    print(\"f1Score : {}\".format(f1_Score))\n",
        "    cm = confusion_matrix(y_true, y_pred)\n",
        "    print(cm)\n",
        "    return accuracy, precision, f1_Score\n"
      ]
    },
    {
      "cell_type": "markdown",
      "metadata": {
        "id": "lutTsY_KpIts"
      },
      "source": [
        "# First, check if test folder is empty or not, if not transfer all existing files to train."
      ]
    },
    {
      "cell_type": "code",
      "execution_count": 5,
      "metadata": {
        "id": "8bnuEdnTo-CL"
      },
      "outputs": [],
      "source": [
        "transfer_all_class_between_folders('test', 'train', 1.0)\n"
      ]
    },
    {
      "cell_type": "markdown",
      "metadata": {
        "id": "Uf_j9bHZpMp0"
      },
      "source": [
        "# Now, split some part of train data into the test folders."
      ]
    },
    {
      "cell_type": "code",
      "execution_count": 6,
      "metadata": {
        "id": "ySOvsWMZpPFl"
      },
      "outputs": [],
      "source": [
        "transfer_all_class_between_folders('train', 'test', 0.20)\n"
      ]
    },
    {
      "cell_type": "code",
      "execution_count": 7,
      "metadata": {
        "id": "X_6tNUr8pw1b"
      },
      "outputs": [],
      "source": [
        "def prepare_name_with_labels(folder_name, dataset_type='train'):\n",
        "    \"\"\" Prepare the file names (X) and the class labels (Y) from folder location of images.\n",
        "\n",
        "        Args:\n",
        "            folder_name: str\n",
        "                Source folder's path\n",
        "\n",
        "    \"\"\"\n",
        "    source_files = os.listdir(os.path.join(dataset_folder_name, dataset_type, folder_name))\n",
        "    y_label = 0\n",
        "    for i in range(len(class_labels)):\n",
        "        if(folder_name == class_labels[i]):\n",
        "            y_label = i\n",
        "    for val in source_files:\n",
        "        X.append(val)\n",
        "        Y.append(y_label)\n",
        "\n"
      ]
    },
    {
      "cell_type": "code",
      "execution_count": 8,
      "metadata": {
        "id": "ABR_vPykp6Fx"
      },
      "outputs": [],
      "source": [
        "# Organize file names and class labels in X and Y variables\n",
        "for i in range(len(class_labels)):\n",
        "    prepare_name_with_labels(class_labels[i])\n"
      ]
    },
    {
      "cell_type": "code",
      "execution_count": 9,
      "metadata": {
        "id": "ct4KgEXpp8vz"
      },
      "outputs": [],
      "source": [
        "X = np.asarray(X)\n",
        "Y = np.asarray(Y)\n"
      ]
    },
    {
      "cell_type": "code",
      "execution_count": 10,
      "metadata": {
        "id": "zrlZd93LqAOj"
      },
      "outputs": [],
      "source": [
        "batch_size = 64\n",
        "epoch = 10\n",
        "num_of_channels = 3\n",
        "number_of_class_labels = len(class_labels)"
      ]
    },
    {
      "cell_type": "code",
      "execution_count": 11,
      "metadata": {},
      "outputs": [],
      "source": [
        "# This is Model 1. The model structure is very trivial, so feel free to optimize the structure of the model!\n",
        "\n",
        "def get_model_1():\n",
        "    activation_function = 'relu'\n",
        "\n",
        "    model = Sequential()\n",
        "    model.add(Conv2D(64, (3, 3), padding='same',\n",
        "                     activation=activation_function, input_shape=(img_rows, img_cols, num_of_channels)))\n",
        "    model.add(Conv2D(64, (3, 3), activation=activation_function))\n",
        "    model.add(MaxPooling2D(pool_size=(2, 2)))\n",
        "    model.add(Dropout(0.25))\n",
        "\n",
        "    model.add(Conv2D(32, (3, 3), padding='same',\n",
        "                     activation=activation_function))\n",
        "    model.add(Conv2D(32, (3, 3), activation=activation_function))\n",
        "    model.add(MaxPooling2D(pool_size=(2, 2)))\n",
        "    model.add(Dropout(0.25))\n",
        "\n",
        "    model.add(Conv2D(16, (3, 3), padding='same',\n",
        "                     activation=activation_function))\n",
        "    model.add(Conv2D(16, (3, 3), activation=activation_function))\n",
        "    model.add(MaxPooling2D(pool_size=(2, 2)))\n",
        "    model.add(Dropout(0.25))\n",
        "\n",
        "    model.add(Flatten())\n",
        "    model.add(Dense(64, activation=activation_function))\n",
        "    model.add(Dropout(0.1))\n",
        "    model.add(Dense(32, activation=activation_function))\n",
        "    model.add(Dropout(0.1))\n",
        "    model.add(Dense(16, activation=activation_function))\n",
        "    model.add(Dropout(0.1))\n",
        "    model.add(Dense(number_of_class_labels, activation='softmax'))\n",
        "\n",
        "    model.compile(optimizer='adam', loss='categorical_crossentropy',\n",
        "                  metrics=['accuracy'])\n",
        "\n",
        "    return model\n",
        "\n",
        "\n",
        "model_1 = get_model_1()\n",
        "\n"
      ]
    },
    {
      "cell_type": "code",
      "execution_count": 12,
      "metadata": {},
      "outputs": [],
      "source": [
        "from tensorflow.keras.applications import Xception\n",
        "\n",
        "\n",
        "def get_model_2():\n",
        "    xception = Xception(include_top=False,\n",
        "                        input_shape=(img_rows, img_cols, num_of_channels),\n",
        "                        weights='imagenet')\n",
        "\n",
        "    # trainable rnet\n",
        "    xception.trainable = True\n",
        "    model = tf.keras.Sequential([\n",
        "        xception,\n",
        "        GlobalAveragePooling2D(),\n",
        "        Dense(100, activation='relu'),\n",
        "        Dropout(0.1),\n",
        "        Dense(50, activation='relu'),\n",
        "        Dropout(0.1),\n",
        "        Dense(number_of_class_labels, activation='softmax')\n",
        "    ])\n",
        "\n",
        "    model.compile(optimizer='adam',\n",
        "                  loss='categorical_crossentropy', metrics=['accuracy'])\n",
        "\n",
        "    return model\n",
        "\n",
        "\n",
        "model_2 = get_model_2()\n"
      ]
    },
    {
      "cell_type": "code",
      "execution_count": 13,
      "metadata": {},
      "outputs": [],
      "source": [
        "from tensorflow.keras.applications import DenseNet201\n",
        "\n",
        "\n",
        "def get_model_3():\n",
        "    densenet = DenseNet201(\n",
        "        input_shape=(img_rows, img_cols, num_of_channels),\n",
        "        weights='imagenet',\n",
        "        include_top=False\n",
        "    )\n",
        "    # trainable densenet\n",
        "    densenet.trainable = True\n",
        "    model = tf.keras.Sequential([\n",
        "        densenet,\n",
        "        GlobalAveragePooling2D(),\n",
        "        Dense(number_of_class_labels, activation='softmax')\n",
        "    ])\n",
        "    model.compile(\n",
        "        optimizer='adam',\n",
        "        loss='categorical_crossentropy',\n",
        "        metrics=['accuracy']\n",
        "    )\n",
        "    return model\n",
        "\n",
        "\n",
        "model_3 = get_model_3()\n"
      ]
    },
    {
      "cell_type": "code",
      "execution_count": 14,
      "metadata": {},
      "outputs": [],
      "source": [
        "from tensorflow.keras.applications import VGG16\n",
        "\n",
        "\n",
        "def get_model_4():\n",
        "    vgg16 = VGG16(include_top=False,\n",
        "                  input_shape=(img_rows, img_cols, num_of_channels),\n",
        "                  weights='imagenet')\n",
        "\n",
        "    # trainable rnet\n",
        "    vgg16.trainable = True\n",
        "    model = tf.keras.Sequential([\n",
        "        vgg16,\n",
        "        GlobalAveragePooling2D(),\n",
        "        Dense(100, activation='relu'),\n",
        "        Dropout(0.1),\n",
        "        Dense(50, activation='relu'),\n",
        "        Dropout(0.1),\n",
        "        Dense(number_of_class_labels, activation='softmax')\n",
        "    ])\n",
        "\n",
        "    model.compile(optimizer='adam',\n",
        "                  loss='categorical_crossentropy', metrics=['accuracy'])\n",
        "\n",
        "    return model\n",
        "\n",
        "\n",
        "model_4 = get_model_4()\n"
      ]
    },
    {
      "cell_type": "code",
      "execution_count": 15,
      "metadata": {},
      "outputs": [],
      "source": [
        "from tensorflow.keras.applications import InceptionResNetV2\n",
        "\n",
        "\n",
        "def get_model_5():\n",
        "    inception_rnet = InceptionResNetV2(include_top=False,\n",
        "                        input_shape=(img_rows, img_cols, num_of_channels),\n",
        "                        weights='imagenet')\n",
        "\n",
        "    # trainable rnet\n",
        "    inception_rnet.trainable = True\n",
        "    model = tf.keras.Sequential([\n",
        "        inception_rnet,\n",
        "        GlobalAveragePooling2D(),\n",
        "        Dense(100, activation='relu'),\n",
        "        Dropout(0.1),\n",
        "        Dense(50, activation='relu'),\n",
        "        Dropout(0.1),\n",
        "        Dense(number_of_class_labels, activation='softmax')\n",
        "    ])\n",
        "\n",
        "    model.compile(optimizer='adam',\n",
        "                  loss='categorical_crossentropy', metrics=['accuracy'])\n",
        "\n",
        "    return model\n",
        "\n",
        "\n",
        "model_5 = get_model_5()\n"
      ]
    },
    {
      "cell_type": "markdown",
      "metadata": {},
      "source": [
        "# Stack all models"
      ]
    },
    {
      "cell_type": "code",
      "execution_count": 16,
      "metadata": {},
      "outputs": [
        {
          "data": {
            "text/plain": [
              "{'model_1': {'accuracy': [], 'precision': [], 'f1_score': []},\n",
              " 'model_2': {'accuracy': [], 'precision': [], 'f1_score': []},\n",
              " 'model_3': {'accuracy': [], 'precision': [], 'f1_score': []},\n",
              " 'model_4': {'accuracy': [], 'precision': [], 'f1_score': []},\n",
              " 'model_5': {'accuracy': [], 'precision': [], 'f1_score': []}}"
            ]
          },
          "execution_count": 16,
          "metadata": {},
          "output_type": "execute_result"
        }
      ],
      "source": [
        "all_models = {\n",
        "    'model_1': model_1,\n",
        "    'model_2': model_2,\n",
        "    'model_3': model_3,\n",
        "    'model_4': model_4,\n",
        "    'model_5': model_5,\n",
        "}\n",
        "\n",
        "# Create empty dict for storing model performance of K-fold-CV later\n",
        "model_validation_performance_all_folds = dict()\n",
        "\n",
        "for model_index in range(len(all_models)):\n",
        "    model_validation_performance_all_folds['model_'+str(model_index+1)] = {'accuracy': [], 'precision': [], 'f1_score': []}\n",
        "model_validation_performance_all_folds"
      ]
    },
    {
      "cell_type": "markdown",
      "metadata": {
        "id": "c9_h0Kviqfqp"
      },
      "source": [
        "# **Stratified K-Fold Cross validation**"
      ]
    },
    {
      "cell_type": "code",
      "execution_count": 17,
      "metadata": {
        "colab": {
          "base_uri": "https://localhost:8080/"
        },
        "id": "8Eey7KqgqUez",
        "outputId": "d19a2140-ce73-45cd-bb85-b96cf6598af6"
      },
      "outputs": [
        {
          "name": "stdout",
          "output_type": "stream",
          "text": [
            "Results for fold 1\n",
            "Found 191 images belonging to 3 classes.\n",
            "Found 64 images belonging to 3 classes.\n",
            "Epoch 1/10\n",
            "3/3 [==============================] - 6s 564ms/step - loss: 1.1070 - accuracy: 0.2984\n",
            "Epoch 2/10\n",
            "3/3 [==============================] - 0s 149ms/step - loss: 1.0955 - accuracy: 0.3874\n",
            "Epoch 3/10\n",
            "3/3 [==============================] - 0s 135ms/step - loss: 1.1017 - accuracy: 0.3298\n",
            "Epoch 4/10\n",
            "3/3 [==============================] - 0s 142ms/step - loss: 1.1025 - accuracy: 0.3089\n",
            "Epoch 5/10\n",
            "3/3 [==============================] - 0s 132ms/step - loss: 1.1054 - accuracy: 0.2670\n",
            "Epoch 6/10\n",
            "3/3 [==============================] - 0s 133ms/step - loss: 1.1015 - accuracy: 0.3037\n",
            "Epoch 7/10\n",
            "3/3 [==============================] - 0s 137ms/step - loss: 1.1010 - accuracy: 0.2827\n",
            "Epoch 8/10\n",
            "3/3 [==============================] - 0s 152ms/step - loss: 1.0997 - accuracy: 0.3403\n",
            "Epoch 9/10\n",
            "3/3 [==============================] - 1s 155ms/step - loss: 1.0983 - accuracy: 0.3822\n",
            "Epoch 10/10\n",
            "3/3 [==============================] - 0s 141ms/step - loss: 1.0979 - accuracy: 0.3455\n",
            "1/1 [==============================] - 0s 142ms/step\n",
            "***Performance on Validation data***\n",
            "Accuracy  : 0.328125\n",
            "Precision : 0.107666015625\n",
            "f1Score : 0.16213235294117648\n",
            "[[ 0 22  0]\n",
            " [ 0 21  0]\n",
            " [ 0 21  0]]\n",
            "Epoch 1/10\n"
          ]
        },
        {
          "name": "stderr",
          "output_type": "stream",
          "text": [
            "c:\\Users\\sadma\\anaconda3\\envs\\deeplearning\\lib\\site-packages\\sklearn\\metrics\\_classification.py:1308: UndefinedMetricWarning: Precision is ill-defined and being set to 0.0 in labels with no predicted samples. Use `zero_division` parameter to control this behavior.\n",
            "  _warn_prf(average, modifier, msg_start, len(result))\n"
          ]
        },
        {
          "name": "stdout",
          "output_type": "stream",
          "text": [
            "3/3 [==============================] - 7s 731ms/step - loss: 1.0391 - accuracy: 0.5969\n",
            "Epoch 2/10\n",
            "3/3 [==============================] - 1s 144ms/step - loss: 0.5797 - accuracy: 0.8901\n",
            "Epoch 3/10\n",
            "3/3 [==============================] - 1s 157ms/step - loss: 0.4087 - accuracy: 0.9581\n",
            "Epoch 4/10\n",
            "3/3 [==============================] - 1s 153ms/step - loss: 0.4394 - accuracy: 0.9267\n",
            "Epoch 5/10\n",
            "3/3 [==============================] - 1s 146ms/step - loss: 0.2106 - accuracy: 0.9529\n",
            "Epoch 6/10\n",
            "3/3 [==============================] - 1s 144ms/step - loss: 0.1013 - accuracy: 0.9738\n",
            "Epoch 7/10\n",
            "3/3 [==============================] - 1s 148ms/step - loss: 0.0310 - accuracy: 0.9948\n",
            "Epoch 8/10\n",
            "3/3 [==============================] - 1s 152ms/step - loss: 0.0175 - accuracy: 1.0000\n",
            "Epoch 9/10\n",
            "3/3 [==============================] - 1s 143ms/step - loss: 0.0111 - accuracy: 0.9948\n",
            "Epoch 10/10\n",
            "3/3 [==============================] - 1s 139ms/step - loss: 0.0029 - accuracy: 1.0000\n",
            "1/1 [==============================] - 1s 585ms/step\n",
            "***Performance on Validation data***\n",
            "Accuracy  : 1.0\n",
            "Precision : 1.0\n",
            "f1Score : 1.0\n",
            "[[22  0  0]\n",
            " [ 0 21  0]\n",
            " [ 0  0 21]]\n",
            "Epoch 1/10\n",
            "3/3 [==============================] - 27s 3s/step - loss: 0.6249 - accuracy: 0.7382\n",
            "Epoch 2/10\n",
            "3/3 [==============================] - 1s 215ms/step - loss: 0.1207 - accuracy: 0.9634\n",
            "Epoch 3/10\n",
            "3/3 [==============================] - 1s 218ms/step - loss: 0.0578 - accuracy: 0.9895\n",
            "Epoch 4/10\n",
            "3/3 [==============================] - 1s 225ms/step - loss: 0.1702 - accuracy: 0.9581\n",
            "Epoch 5/10\n",
            "3/3 [==============================] - 1s 218ms/step - loss: 0.0516 - accuracy: 0.9843\n",
            "Epoch 6/10\n",
            "3/3 [==============================] - 1s 214ms/step - loss: 0.3444 - accuracy: 0.9372\n",
            "Epoch 7/10\n",
            "3/3 [==============================] - 1s 220ms/step - loss: 0.0441 - accuracy: 0.9843\n",
            "Epoch 8/10\n",
            "3/3 [==============================] - 1s 215ms/step - loss: 0.0393 - accuracy: 0.9843\n",
            "Epoch 9/10\n",
            "3/3 [==============================] - 1s 225ms/step - loss: 0.0231 - accuracy: 1.0000\n",
            "Epoch 10/10\n",
            "3/3 [==============================] - 1s 214ms/step - loss: 0.0200 - accuracy: 1.0000\n",
            "1/1 [==============================] - 2s 2s/step\n",
            "***Performance on Validation data***\n",
            "Accuracy  : 0.609375\n",
            "Precision : 0.40842056650246306\n",
            "f1Score : 0.48847587719298247\n",
            "[[22  0  0]\n",
            " [ 9  0 12]\n",
            " [ 4  0 17]]\n"
          ]
        },
        {
          "name": "stderr",
          "output_type": "stream",
          "text": [
            "c:\\Users\\sadma\\anaconda3\\envs\\deeplearning\\lib\\site-packages\\sklearn\\metrics\\_classification.py:1308: UndefinedMetricWarning: Precision is ill-defined and being set to 0.0 in labels with no predicted samples. Use `zero_division` parameter to control this behavior.\n",
            "  _warn_prf(average, modifier, msg_start, len(result))\n"
          ]
        },
        {
          "name": "stdout",
          "output_type": "stream",
          "text": [
            "Epoch 1/10\n",
            "3/3 [==============================] - 7s 2s/step - loss: 2.1079 - accuracy: 0.2932\n",
            "Epoch 2/10\n",
            "3/3 [==============================] - 1s 141ms/step - loss: 1.3533 - accuracy: 0.3613\n",
            "Epoch 3/10\n",
            "3/3 [==============================] - 1s 142ms/step - loss: 1.1082 - accuracy: 0.3194\n",
            "Epoch 4/10\n",
            "3/3 [==============================] - 1s 150ms/step - loss: 1.1088 - accuracy: 0.3298\n",
            "Epoch 5/10\n",
            "3/3 [==============================] - 1s 139ms/step - loss: 1.1167 - accuracy: 0.2880\n",
            "Epoch 6/10\n",
            "3/3 [==============================] - 1s 147ms/step - loss: 1.1086 - accuracy: 0.3089\n",
            "Epoch 7/10\n",
            "3/3 [==============================] - 1s 140ms/step - loss: 1.1004 - accuracy: 0.3455\n",
            "Epoch 8/10\n",
            "3/3 [==============================] - 1s 142ms/step - loss: 1.1075 - accuracy: 0.3403\n",
            "Epoch 9/10\n",
            "3/3 [==============================] - 1s 158ms/step - loss: 1.1156 - accuracy: 0.3560\n",
            "Epoch 10/10\n",
            "3/3 [==============================] - 1s 141ms/step - loss: 1.1076 - accuracy: 0.3403\n",
            "1/1 [==============================] - 0s 164ms/step\n",
            "***Performance on Validation data***\n",
            "Accuracy  : 0.328125\n",
            "Precision : 0.107666015625\n",
            "f1Score : 0.16213235294117648\n",
            "[[ 0  0 22]\n",
            " [ 0  0 21]\n",
            " [ 0  0 21]]\n"
          ]
        },
        {
          "name": "stderr",
          "output_type": "stream",
          "text": [
            "c:\\Users\\sadma\\anaconda3\\envs\\deeplearning\\lib\\site-packages\\sklearn\\metrics\\_classification.py:1308: UndefinedMetricWarning: Precision is ill-defined and being set to 0.0 in labels with no predicted samples. Use `zero_division` parameter to control this behavior.\n",
            "  _warn_prf(average, modifier, msg_start, len(result))\n"
          ]
        },
        {
          "name": "stdout",
          "output_type": "stream",
          "text": [
            "Epoch 1/10\n",
            "3/3 [==============================] - 18s 1s/step - loss: 0.8798 - accuracy: 0.6073\n",
            "Epoch 2/10\n",
            "3/3 [==============================] - 1s 230ms/step - loss: 0.2458 - accuracy: 0.9162\n",
            "Epoch 3/10\n",
            "3/3 [==============================] - 1s 210ms/step - loss: 0.1521 - accuracy: 0.9581\n",
            "Epoch 4/10\n",
            "3/3 [==============================] - 1s 214ms/step - loss: 0.1335 - accuracy: 0.9791\n",
            "Epoch 5/10\n",
            "3/3 [==============================] - 1s 213ms/step - loss: 0.0306 - accuracy: 0.9843\n",
            "Epoch 6/10\n",
            "3/3 [==============================] - 1s 211ms/step - loss: 0.0137 - accuracy: 0.9895\n",
            "Epoch 7/10\n",
            "3/3 [==============================] - 1s 205ms/step - loss: 0.0376 - accuracy: 0.9895\n",
            "Epoch 8/10\n",
            "3/3 [==============================] - 1s 218ms/step - loss: 0.0320 - accuracy: 0.9948\n",
            "Epoch 9/10\n",
            "3/3 [==============================] - 1s 201ms/step - loss: 0.0837 - accuracy: 0.9843\n",
            "Epoch 10/10\n",
            "3/3 [==============================] - 1s 208ms/step - loss: 0.0256 - accuracy: 0.9895TA: 0s - loss: 0.0256 - accuracy: 0.98\n",
            "WARNING:tensorflow:5 out of the last 5 calls to <function Model.make_predict_function.<locals>.predict_function at 0x0000027C8B57D3A8> triggered tf.function retracing. Tracing is expensive and the excessive number of tracings could be due to (1) creating @tf.function repeatedly in a loop, (2) passing tensors with different shapes, (3) passing Python objects instead of tensors. For (1), please define your @tf.function outside of the loop. For (2), @tf.function has experimental_relax_shapes=True option that relaxes argument shapes that can avoid unnecessary retracing. For (3), please refer to https://www.tensorflow.org/guide/function#controlling_retracing and https://www.tensorflow.org/api_docs/python/tf/function for  more details.\n",
            "1/1 [==============================] - 3s 3s/step\n",
            "***Performance on Validation data***\n",
            "Accuracy  : 0.328125\n",
            "Precision : 0.107666015625\n",
            "f1Score : 0.16213235294117648\n",
            "[[ 0  0 22]\n",
            " [ 0  0 21]\n",
            " [ 0  0 21]]\n",
            "Results for fold 2\n",
            "Found 191 images belonging to 3 classes.\n",
            "Found 64 images belonging to 3 classes.\n"
          ]
        },
        {
          "name": "stderr",
          "output_type": "stream",
          "text": [
            "c:\\Users\\sadma\\anaconda3\\envs\\deeplearning\\lib\\site-packages\\sklearn\\metrics\\_classification.py:1308: UndefinedMetricWarning: Precision is ill-defined and being set to 0.0 in labels with no predicted samples. Use `zero_division` parameter to control this behavior.\n",
            "  _warn_prf(average, modifier, msg_start, len(result))\n"
          ]
        },
        {
          "name": "stdout",
          "output_type": "stream",
          "text": [
            "Epoch 1/10\n",
            "3/3 [==============================] - 1s 148ms/step - loss: 1.0978 - accuracy: 0.3874\n",
            "Epoch 2/10\n",
            "3/3 [==============================] - 1s 143ms/step - loss: 1.0976 - accuracy: 0.3508\n",
            "Epoch 3/10\n",
            "3/3 [==============================] - 0s 152ms/step - loss: 1.0982 - accuracy: 0.3560\n",
            "Epoch 4/10\n",
            "3/3 [==============================] - 1s 158ms/step - loss: 1.0968 - accuracy: 0.3403\n",
            "Epoch 5/10\n",
            "3/3 [==============================] - 0s 154ms/step - loss: 1.0981 - accuracy: 0.3298\n",
            "Epoch 6/10\n",
            "3/3 [==============================] - 0s 149ms/step - loss: 1.0980 - accuracy: 0.3455\n",
            "Epoch 7/10\n",
            "3/3 [==============================] - 0s 144ms/step - loss: 1.0983 - accuracy: 0.3037\n",
            "Epoch 8/10\n",
            "3/3 [==============================] - 0s 149ms/step - loss: 1.0975 - accuracy: 0.3089\n",
            "Epoch 9/10\n",
            "3/3 [==============================] - 1s 157ms/step - loss: 1.0973 - accuracy: 0.3613\n",
            "Epoch 10/10\n",
            "3/3 [==============================] - 0s 144ms/step - loss: 1.0977 - accuracy: 0.3822\n",
            "1/1 [==============================] - 0s 52ms/step\n",
            "***Performance on Validation data***\n",
            "Accuracy  : 0.328125\n",
            "Precision : 0.107666015625\n",
            "f1Score : 0.16213235294117648\n",
            "[[21  0  0]\n",
            " [22  0  0]\n",
            " [21  0  0]]\n",
            "Epoch 1/10\n"
          ]
        },
        {
          "name": "stderr",
          "output_type": "stream",
          "text": [
            "c:\\Users\\sadma\\anaconda3\\envs\\deeplearning\\lib\\site-packages\\sklearn\\metrics\\_classification.py:1308: UndefinedMetricWarning: Precision is ill-defined and being set to 0.0 in labels with no predicted samples. Use `zero_division` parameter to control this behavior.\n",
            "  _warn_prf(average, modifier, msg_start, len(result))\n"
          ]
        },
        {
          "name": "stdout",
          "output_type": "stream",
          "text": [
            "3/3 [==============================] - 1s 157ms/step - loss: 0.0418 - accuracy: 0.9791\n",
            "Epoch 2/10\n",
            "3/3 [==============================] - 1s 154ms/step - loss: 0.0120 - accuracy: 0.9948\n",
            "Epoch 3/10\n",
            "3/3 [==============================] - 1s 149ms/step - loss: 0.0787 - accuracy: 0.9791\n",
            "Epoch 4/10\n",
            "3/3 [==============================] - 1s 149ms/step - loss: 0.1577 - accuracy: 0.9895\n",
            "Epoch 5/10\n",
            "3/3 [==============================] - 1s 146ms/step - loss: 0.2042 - accuracy: 0.9791\n",
            "Epoch 6/10\n",
            "3/3 [==============================] - 1s 158ms/step - loss: 0.1824 - accuracy: 0.9634\n",
            "Epoch 7/10\n",
            "3/3 [==============================] - 1s 148ms/step - loss: 0.0654 - accuracy: 0.9895\n",
            "Epoch 8/10\n",
            "3/3 [==============================] - 1s 159ms/step - loss: 0.0460 - accuracy: 0.9843\n",
            "Epoch 9/10\n",
            "3/3 [==============================] - 1s 153ms/step - loss: 0.0227 - accuracy: 0.9948\n",
            "Epoch 10/10\n",
            "3/3 [==============================] - 1s 147ms/step - loss: 0.0269 - accuracy: 0.9843\n",
            "1/1 [==============================] - 0s 65ms/step\n",
            "***Performance on Validation data***\n",
            "Accuracy  : 0.6875\n",
            "Precision : 0.8186663879598661\n",
            "f1Score : 0.6075860507246377\n",
            "[[21  0  0]\n",
            " [ 1 21  0]\n",
            " [17  2  2]]\n",
            "Epoch 1/10\n",
            "3/3 [==============================] - 1s 211ms/step - loss: 0.0232 - accuracy: 0.9948\n",
            "Epoch 2/10\n",
            "3/3 [==============================] - 1s 214ms/step - loss: 0.0027 - accuracy: 1.0000\n",
            "Epoch 3/10\n",
            "3/3 [==============================] - 1s 226ms/step - loss: 0.0015 - accuracy: 1.0000\n",
            "Epoch 4/10\n",
            "3/3 [==============================] - 1s 228ms/step - loss: 5.3153e-04 - accuracy: 1.0000\n",
            "Epoch 5/10\n",
            "3/3 [==============================] - 1s 225ms/step - loss: 4.0826e-04 - accuracy: 1.0000\n",
            "Epoch 6/10\n",
            "3/3 [==============================] - 1s 230ms/step - loss: 4.7059e-05 - accuracy: 1.0000\n",
            "Epoch 7/10\n",
            "3/3 [==============================] - 1s 222ms/step - loss: 8.9834e-04 - accuracy: 1.0000\n",
            "Epoch 8/10\n",
            "3/3 [==============================] - 1s 220ms/step - loss: 3.7129e-04 - accuracy: 1.0000\n",
            "Epoch 9/10\n",
            "3/3 [==============================] - 1s 249ms/step - loss: 0.0040 - accuracy: 1.0000\n",
            "Epoch 10/10\n",
            "3/3 [==============================] - 1s 229ms/step - loss: 3.1161e-05 - accuracy: 1.0000\n",
            "1/1 [==============================] - 0s 98ms/step\n",
            "***Performance on Validation data***\n",
            "Accuracy  : 0.71875\n",
            "Precision : 0.8040364583333333\n",
            "f1Score : 0.6620656992487772\n",
            "[[21  0  0]\n",
            " [ 5  5 12]\n",
            " [ 1  0 20]]\n",
            "Epoch 1/10\n",
            "3/3 [==============================] - 1s 148ms/step - loss: 1.1052 - accuracy: 0.2565\n",
            "Epoch 2/10\n",
            "3/3 [==============================] - 1s 143ms/step - loss: 1.1109 - accuracy: 0.3508\n",
            "Epoch 3/10\n",
            "3/3 [==============================] - 1s 155ms/step - loss: 1.1226 - accuracy: 0.3037\n",
            "Epoch 4/10\n",
            "3/3 [==============================] - 1s 157ms/step - loss: 1.0877 - accuracy: 0.3717\n",
            "Epoch 5/10\n",
            "3/3 [==============================] - 1s 141ms/step - loss: 1.1404 - accuracy: 0.2984\n",
            "Epoch 6/10\n",
            "3/3 [==============================] - 1s 160ms/step - loss: 1.1692 - accuracy: 0.3194\n",
            "Epoch 7/10\n",
            "3/3 [==============================] - 1s 148ms/step - loss: 1.0990 - accuracy: 0.3613\n",
            "Epoch 8/10\n",
            "3/3 [==============================] - 1s 176ms/step - loss: 1.0965 - accuracy: 0.3455\n",
            "Epoch 9/10\n",
            "3/3 [==============================] - 1s 137ms/step - loss: 1.1174 - accuracy: 0.2932\n",
            "Epoch 10/10\n",
            "3/3 [==============================] - 1s 142ms/step - loss: 1.1047 - accuracy: 0.3455\n",
            "1/1 [==============================] - 0s 58ms/step\n",
            "***Performance on Validation data***\n",
            "Accuracy  : 0.421875\n",
            "Precision : 0.3267857142857143\n",
            "f1Score : 0.3359797297297298\n",
            "[[ 0  3 18]\n",
            " [ 0  9 13]\n",
            " [ 0  3 18]]\n"
          ]
        },
        {
          "name": "stderr",
          "output_type": "stream",
          "text": [
            "c:\\Users\\sadma\\anaconda3\\envs\\deeplearning\\lib\\site-packages\\sklearn\\metrics\\_classification.py:1308: UndefinedMetricWarning: Precision is ill-defined and being set to 0.0 in labels with no predicted samples. Use `zero_division` parameter to control this behavior.\n",
            "  _warn_prf(average, modifier, msg_start, len(result))\n"
          ]
        },
        {
          "name": "stdout",
          "output_type": "stream",
          "text": [
            "Epoch 1/10\n",
            "3/3 [==============================] - 1s 222ms/step - loss: 0.0038 - accuracy: 1.0000\n",
            "Epoch 2/10\n",
            "3/3 [==============================] - 1s 213ms/step - loss: 0.0562 - accuracy: 0.9895\n",
            "Epoch 3/10\n",
            "3/3 [==============================] - 1s 215ms/step - loss: 0.0016 - accuracy: 1.0000\n",
            "Epoch 4/10\n",
            "3/3 [==============================] - 1s 234ms/step - loss: 0.1605 - accuracy: 0.9895\n",
            "Epoch 5/10\n",
            "3/3 [==============================] - 1s 216ms/step - loss: 0.0121 - accuracy: 0.9948\n",
            "Epoch 6/10\n",
            "3/3 [==============================] - 1s 208ms/step - loss: 0.1571 - accuracy: 0.9634\n",
            "Epoch 7/10\n",
            "3/3 [==============================] - 1s 209ms/step - loss: 0.0523 - accuracy: 0.9843\n",
            "Epoch 8/10\n",
            "3/3 [==============================] - 1s 210ms/step - loss: 0.0954 - accuracy: 0.9948\n",
            "Epoch 9/10\n",
            "3/3 [==============================] - 1s 224ms/step - loss: 0.0157 - accuracy: 1.0000\n",
            "Epoch 10/10\n",
            "3/3 [==============================] - 1s 218ms/step - loss: 0.0099 - accuracy: 0.9948\n",
            "1/1 [==============================] - 0s 109ms/step\n",
            "***Performance on Validation data***\n",
            "Accuracy  : 0.328125\n",
            "Precision : 0.107666015625\n",
            "f1Score : 0.16213235294117648\n",
            "[[21  0  0]\n",
            " [22  0  0]\n",
            " [21  0  0]]\n",
            "Results for fold 3\n",
            "Found 192 images belonging to 3 classes.\n"
          ]
        },
        {
          "name": "stderr",
          "output_type": "stream",
          "text": [
            "c:\\Users\\sadma\\anaconda3\\envs\\deeplearning\\lib\\site-packages\\sklearn\\metrics\\_classification.py:1308: UndefinedMetricWarning: Precision is ill-defined and being set to 0.0 in labels with no predicted samples. Use `zero_division` parameter to control this behavior.\n",
            "  _warn_prf(average, modifier, msg_start, len(result))\n"
          ]
        },
        {
          "name": "stdout",
          "output_type": "stream",
          "text": [
            "Found 63 images belonging to 3 classes.\n",
            "Epoch 1/10\n",
            "3/3 [==============================] - 1s 172ms/step - loss: 1.1027 - accuracy: 0.3073\n",
            "Epoch 2/10\n",
            "3/3 [==============================] - 1s 156ms/step - loss: 1.1037 - accuracy: 0.2760\n",
            "Epoch 3/10\n",
            "3/3 [==============================] - 1s 162ms/step - loss: 1.0992 - accuracy: 0.3594\n",
            "Epoch 4/10\n",
            "3/3 [==============================] - 1s 177ms/step - loss: 1.0984 - accuracy: 0.3385\n",
            "Epoch 5/10\n",
            "3/3 [==============================] - 1s 148ms/step - loss: 1.0985 - accuracy: 0.3438\n",
            "Epoch 6/10\n",
            "3/3 [==============================] - 0s 149ms/step - loss: 1.0983 - accuracy: 0.3542\n",
            "Epoch 7/10\n",
            "3/3 [==============================] - 0s 152ms/step - loss: 1.0988 - accuracy: 0.3646\n",
            "Epoch 8/10\n",
            "3/3 [==============================] - 0s 147ms/step - loss: 1.0984 - accuracy: 0.3490\n",
            "Epoch 9/10\n",
            "3/3 [==============================] - 1s 162ms/step - loss: 1.0988 - accuracy: 0.2917\n",
            "Epoch 10/10\n",
            "3/3 [==============================] - 0s 149ms/step - loss: 1.0979 - accuracy: 0.3542\n",
            "1/1 [==============================] - 0s 52ms/step\n",
            "***Performance on Validation data***\n",
            "Accuracy  : 0.3333333333333333\n",
            "Precision : 0.1111111111111111\n",
            "f1Score : 0.16666666666666666\n",
            "[[ 0 21  0]\n",
            " [ 0 21  0]\n",
            " [ 0 21  0]]\n"
          ]
        },
        {
          "name": "stderr",
          "output_type": "stream",
          "text": [
            "c:\\Users\\sadma\\anaconda3\\envs\\deeplearning\\lib\\site-packages\\sklearn\\metrics\\_classification.py:1308: UndefinedMetricWarning: Precision is ill-defined and being set to 0.0 in labels with no predicted samples. Use `zero_division` parameter to control this behavior.\n",
            "  _warn_prf(average, modifier, msg_start, len(result))\n"
          ]
        },
        {
          "name": "stdout",
          "output_type": "stream",
          "text": [
            "Epoch 1/10\n",
            "3/3 [==============================] - 1s 153ms/step - loss: 0.0570 - accuracy: 0.9844\n",
            "Epoch 2/10\n",
            "3/3 [==============================] - 1s 161ms/step - loss: 0.0388 - accuracy: 0.9896\n",
            "Epoch 3/10\n",
            "3/3 [==============================] - 1s 165ms/step - loss: 0.0462 - accuracy: 0.9792\n",
            "Epoch 4/10\n",
            "3/3 [==============================] - 1s 158ms/step - loss: 0.0022 - accuracy: 1.0000\n",
            "Epoch 5/10\n",
            "3/3 [==============================] - 1s 159ms/step - loss: 0.1303 - accuracy: 0.9896\n",
            "Epoch 6/10\n",
            "3/3 [==============================] - 1s 169ms/step - loss: 0.0099 - accuracy: 0.9948\n",
            "Epoch 7/10\n",
            "3/3 [==============================] - 1s 162ms/step - loss: 0.0053 - accuracy: 1.0000\n",
            "Epoch 8/10\n",
            "3/3 [==============================] - 1s 166ms/step - loss: 0.0428 - accuracy: 0.9896\n",
            "Epoch 9/10\n",
            "3/3 [==============================] - 1s 153ms/step - loss: 0.0074 - accuracy: 1.0000\n",
            "Epoch 10/10\n",
            "3/3 [==============================] - 1s 180ms/step - loss: 0.0019 - accuracy: 1.0000\n",
            "1/1 [==============================] - 0s 61ms/step\n",
            "***Performance on Validation data***\n",
            "Accuracy  : 0.9365079365079365\n",
            "Precision : 0.9431818181818182\n",
            "f1Score : 0.9349381204950361\n",
            "[[21  0  0]\n",
            " [ 0 21  0]\n",
            " [ 3  1 17]]\n",
            "Epoch 1/10\n",
            "3/3 [==============================] - 1s 232ms/step - loss: 3.6587e-04 - accuracy: 1.0000\n",
            "Epoch 2/10\n",
            "3/3 [==============================] - 1s 222ms/step - loss: 0.0148 - accuracy: 0.9948\n",
            "Epoch 3/10\n",
            "3/3 [==============================] - 1s 226ms/step - loss: 0.0221 - accuracy: 0.9896\n",
            "Epoch 4/10\n",
            "3/3 [==============================] - 1s 228ms/step - loss: 0.0234 - accuracy: 0.9948\n",
            "Epoch 5/10\n",
            "3/3 [==============================] - 1s 236ms/step - loss: 0.0319 - accuracy: 0.9844\n",
            "Epoch 6/10\n",
            "3/3 [==============================] - 1s 236ms/step - loss: 0.0062 - accuracy: 1.0000\n",
            "Epoch 7/10\n",
            "3/3 [==============================] - 1s 224ms/step - loss: 0.0274 - accuracy: 0.9948\n",
            "Epoch 8/10\n",
            "3/3 [==============================] - 1s 256ms/step - loss: 0.0067 - accuracy: 0.9948\n",
            "Epoch 9/10\n",
            "3/3 [==============================] - 1s 240ms/step - loss: 0.0660 - accuracy: 0.9844\n",
            "Epoch 10/10\n",
            "3/3 [==============================] - 1s 231ms/step - loss: 0.0276 - accuracy: 0.9896\n",
            "1/1 [==============================] - 0s 89ms/step\n",
            "***Performance on Validation data***\n",
            "Accuracy  : 1.0\n",
            "Precision : 1.0\n",
            "f1Score : 1.0\n",
            "[[21  0  0]\n",
            " [ 0 21  0]\n",
            " [ 0  0 21]]\n",
            "Epoch 1/10\n",
            "3/3 [==============================] - 1s 150ms/step - loss: 1.0972 - accuracy: 0.3698\n",
            "Epoch 2/10\n",
            "3/3 [==============================] - 1s 148ms/step - loss: 1.0970 - accuracy: 0.3958\n",
            "Epoch 3/10\n",
            "3/3 [==============================] - 1s 150ms/step - loss: 1.1034 - accuracy: 0.3229\n",
            "Epoch 4/10\n",
            "3/3 [==============================] - 1s 152ms/step - loss: 1.0949 - accuracy: 0.3594\n",
            "Epoch 5/10\n",
            "3/3 [==============================] - 1s 147ms/step - loss: 1.0958 - accuracy: 0.3281\n",
            "Epoch 6/10\n",
            "3/3 [==============================] - 1s 169ms/step - loss: 1.0992 - accuracy: 0.3229\n",
            "Epoch 7/10\n",
            "3/3 [==============================] - 1s 148ms/step - loss: 1.0918 - accuracy: 0.3958\n",
            "Epoch 8/10\n",
            "3/3 [==============================] - 1s 150ms/step - loss: 1.0976 - accuracy: 0.3438\n",
            "Epoch 9/10\n",
            "3/3 [==============================] - 1s 143ms/step - loss: 1.0859 - accuracy: 0.4167\n",
            "Epoch 10/10\n",
            "3/3 [==============================] - 1s 156ms/step - loss: 1.0661 - accuracy: 0.4635\n",
            "1/1 [==============================] - 0s 52ms/step\n",
            "***Performance on Validation data***\n",
            "Accuracy  : 0.6349206349206349\n",
            "Precision : 0.8119135046919624\n",
            "f1Score : 0.5490530303030303\n",
            "[[ 1  1 19]\n",
            " [ 0 18  3]\n",
            " [ 0  0 21]]\n",
            "Epoch 1/10\n",
            "3/3 [==============================] - 1s 219ms/step - loss: 0.0150 - accuracy: 0.9948\n",
            "Epoch 2/10\n",
            "3/3 [==============================] - 1s 276ms/step - loss: 0.0153 - accuracy: 0.9948\n",
            "Epoch 3/10\n",
            "3/3 [==============================] - 1s 214ms/step - loss: 0.0668 - accuracy: 0.9896\n",
            "Epoch 4/10\n",
            "3/3 [==============================] - 1s 216ms/step - loss: 0.0654 - accuracy: 0.9792\n",
            "Epoch 5/10\n",
            "3/3 [==============================] - 1s 216ms/step - loss: 0.0254 - accuracy: 0.9896\n",
            "Epoch 6/10\n",
            "3/3 [==============================] - 1s 222ms/step - loss: 0.0027 - accuracy: 1.0000\n",
            "Epoch 7/10\n",
            "3/3 [==============================] - 1s 220ms/step - loss: 0.0036 - accuracy: 1.0000\n",
            "Epoch 8/10\n",
            "3/3 [==============================] - 1s 229ms/step - loss: 0.0033 - accuracy: 1.0000\n",
            "Epoch 9/10\n",
            "3/3 [==============================] - 1s 218ms/step - loss: 0.0064 - accuracy: 1.0000\n",
            "Epoch 10/10\n",
            "3/3 [==============================] - 1s 252ms/step - loss: 0.0205 - accuracy: 0.9948\n",
            "1/1 [==============================] - 0s 103ms/step\n",
            "***Performance on Validation data***\n",
            "Accuracy  : 0.8412698412698413\n",
            "Precision : 0.8814814814814814\n",
            "f1Score : 0.842885872297637\n",
            "[[17  0  4]\n",
            " [ 1 15  5]\n",
            " [ 0  0 21]]\n"
          ]
        }
      ],
      "source": [
        "# ===============Stratified K-Fold======================\n",
        "skf = StratifiedKFold(n_splits=3, shuffle=True)\n",
        "skf.get_n_splits(X, Y)\n",
        "fold_num = 0\n",
        "for train_index, val_index in skf.split(X, Y):\n",
        "    # First cut all images from validation to train (if any exists)\n",
        "    transfer_all_class_between_folders('validation', 'train', 1.0)\n",
        "    fold_num += 1\n",
        "    print(\"Results for fold\", fold_num)\n",
        "    X_train, X_val = X[train_index], X[val_index]\n",
        "    Y_train, Y_val = Y[train_index], Y[val_index]\n",
        "\n",
        "    # Move validation images of this fold from train folder to the validation folder\n",
        "    for each_index in range(len(X_val)):\n",
        "        class_label = ''\n",
        "        for i in range(len(class_labels)):\n",
        "            if(Y_val[each_index] == i):\n",
        "                class_label = class_labels[i]\n",
        "        # Then, copy the validation images to the validation folder\n",
        "        shutil.move(os.path.join(dataset_folder_name, 'train', class_label, X_val[each_index]),\n",
        "                    os.path.join(dataset_folder_name, 'validation', class_label, X_val[each_index]))\n",
        "\n",
        "    train_datagen = ImageDataGenerator(\n",
        "        rescale=1./255,\n",
        "        zoom_range=0.20,\n",
        "        fill_mode=\"nearest\")\n",
        "    validation_datagen = ImageDataGenerator(rescale=1./255)\n",
        "    test_datagen = ImageDataGenerator(rescale=1./255)\n",
        "\n",
        "    # Start ImageClassification Model\n",
        "    train_generator = train_datagen.flow_from_directory(\n",
        "        train_path,\n",
        "        target_size=(img_rows, img_cols),\n",
        "        batch_size=batch_size,\n",
        "        class_mode='categorical',\n",
        "        subset='training')\n",
        "\n",
        "    validation_generator = validation_datagen.flow_from_directory(\n",
        "        validation_path,\n",
        "        target_size=(img_rows, img_cols),\n",
        "        batch_size=batch_size,\n",
        "        class_mode=None,  # only data, no labels\n",
        "        shuffle=False)\n",
        "\n",
        "    # Get true class labels of validation data\n",
        "    true_classes = validation_generator.classes\n",
        "\n",
        "    # Train all the models and save performance of each model on validation dataset\n",
        "    for model_index in range(len(all_models)):\n",
        "        # Fit model\n",
        "        history = all_models['model_'+str(model_index+1)].fit(train_generator,\n",
        "                            epochs=epoch)\n",
        "\n",
        "        predictions = all_models['model_'+str(model_index+1)].predict(validation_generator, verbose=1)\n",
        "        y_predictions = np.argmax(predictions, axis=1)\n",
        "\n",
        "        # Evaluate validation performance\n",
        "        print(\"***Performance on Validation data***\")\n",
        "        val_acc, val_prec, val_fScore = my_metrics(true_classes, y_predictions)\n",
        "\n",
        "        model_validation_performance_all_folds['model_'+str(model_index+1)]['accuracy'].append(val_acc)\n",
        "        model_validation_performance_all_folds['model_'+str(model_index+1)]['precision'].append(val_prec)\n",
        "        model_validation_performance_all_folds['model_'+str(model_index+1)]['f1_score'].append(val_fScore)"
      ]
    },
    {
      "cell_type": "markdown",
      "metadata": {},
      "source": [
        "# Check performance of all models for all folds"
      ]
    },
    {
      "cell_type": "code",
      "execution_count": 18,
      "metadata": {},
      "outputs": [
        {
          "data": {
            "text/plain": [
              "{'model_1': {'accuracy': [0.328125, 0.328125, 0.3333333333333333],\n",
              "  'precision': [0.107666015625, 0.107666015625, 0.1111111111111111],\n",
              "  'f1_score': [0.16213235294117648, 0.16213235294117648, 0.16666666666666666]},\n",
              " 'model_2': {'accuracy': [1.0, 0.6875, 0.9365079365079365],\n",
              "  'precision': [1.0, 0.8186663879598661, 0.9431818181818182],\n",
              "  'f1_score': [1.0, 0.6075860507246377, 0.9349381204950361]},\n",
              " 'model_3': {'accuracy': [0.609375, 0.71875, 1.0],\n",
              "  'precision': [0.40842056650246306, 0.8040364583333333, 1.0],\n",
              "  'f1_score': [0.48847587719298247, 0.6620656992487772, 1.0]},\n",
              " 'model_4': {'accuracy': [0.328125, 0.421875, 0.6349206349206349],\n",
              "  'precision': [0.107666015625, 0.3267857142857143, 0.8119135046919624],\n",
              "  'f1_score': [0.16213235294117648, 0.3359797297297298, 0.5490530303030303]},\n",
              " 'model_5': {'accuracy': [0.328125, 0.328125, 0.8412698412698413],\n",
              "  'precision': [0.107666015625, 0.107666015625, 0.8814814814814814],\n",
              "  'f1_score': [0.16213235294117648, 0.16213235294117648, 0.842885872297637]}}"
            ]
          },
          "execution_count": 18,
          "metadata": {},
          "output_type": "execute_result"
        }
      ],
      "source": [
        "model_validation_performance_all_folds"
      ]
    },
    {
      "cell_type": "code",
      "execution_count": 19,
      "metadata": {},
      "outputs": [
        {
          "data": {
            "text/plain": [
              "{'model_1': {'accuracy': 0.3298611111111111,\n",
              "  'precision': 0.10881438078703703,\n",
              "  'f1_score': 0.1636437908496732},\n",
              " 'model_2': {'accuracy': 0.8746693121693122,\n",
              "  'precision': 0.9206160687138948,\n",
              "  'f1_score': 0.8475080570732246},\n",
              " 'model_3': {'accuracy': 0.7760416666666666,\n",
              "  'precision': 0.7374856749452654,\n",
              "  'f1_score': 0.7168471921472532},\n",
              " 'model_4': {'accuracy': 0.46164021164021163,\n",
              "  'precision': 0.4154550782008923,\n",
              "  'f1_score': 0.34905503765797885},\n",
              " 'model_5': {'accuracy': 0.49917328042328046,\n",
              "  'precision': 0.3656045042438271,\n",
              "  'f1_score': 0.38905019272666336}}"
            ]
          },
          "execution_count": 19,
          "metadata": {},
          "output_type": "execute_result"
        }
      ],
      "source": [
        "# Aggregate all models' peformance measures for k folds\n",
        "for model_index in range(len(all_models)):\n",
        "    model_validation_performance_all_folds['model_'+str(model_index+1)]['accuracy'] = np.mean(model_validation_performance_all_folds['model_'+str(model_index+1)]['accuracy'])\n",
        "    model_validation_performance_all_folds['model_'+str(model_index+1)]['precision'] = np.mean(model_validation_performance_all_folds['model_'+str(model_index+1)]['precision'])\n",
        "    model_validation_performance_all_folds['model_'+str(model_index+1)]['f1_score'] = np.mean(model_validation_performance_all_folds['model_'+str(model_index+1)]['f1_score'])\n",
        "\n",
        "model_validation_performance_all_folds"
      ]
    },
    {
      "cell_type": "code",
      "execution_count": 20,
      "metadata": {},
      "outputs": [
        {
          "data": {
            "text/html": [
              "<div>\n",
              "<style scoped>\n",
              "    .dataframe tbody tr th:only-of-type {\n",
              "        vertical-align: middle;\n",
              "    }\n",
              "\n",
              "    .dataframe tbody tr th {\n",
              "        vertical-align: top;\n",
              "    }\n",
              "\n",
              "    .dataframe thead th {\n",
              "        text-align: right;\n",
              "    }\n",
              "</style>\n",
              "<table border=\"1\" class=\"dataframe\">\n",
              "  <thead>\n",
              "    <tr style=\"text-align: right;\">\n",
              "      <th></th>\n",
              "      <th>model_1</th>\n",
              "      <th>model_2</th>\n",
              "      <th>model_3</th>\n",
              "      <th>model_4</th>\n",
              "      <th>model_5</th>\n",
              "    </tr>\n",
              "  </thead>\n",
              "  <tbody>\n",
              "    <tr>\n",
              "      <th>accuracy</th>\n",
              "      <td>0.329861</td>\n",
              "      <td>0.874669</td>\n",
              "      <td>0.776042</td>\n",
              "      <td>0.461640</td>\n",
              "      <td>0.499173</td>\n",
              "    </tr>\n",
              "    <tr>\n",
              "      <th>precision</th>\n",
              "      <td>0.108814</td>\n",
              "      <td>0.920616</td>\n",
              "      <td>0.737486</td>\n",
              "      <td>0.415455</td>\n",
              "      <td>0.365605</td>\n",
              "    </tr>\n",
              "    <tr>\n",
              "      <th>f1_score</th>\n",
              "      <td>0.163644</td>\n",
              "      <td>0.847508</td>\n",
              "      <td>0.716847</td>\n",
              "      <td>0.349055</td>\n",
              "      <td>0.389050</td>\n",
              "    </tr>\n",
              "  </tbody>\n",
              "</table>\n",
              "</div>"
            ],
            "text/plain": [
              "            model_1   model_2   model_3   model_4   model_5\n",
              "accuracy   0.329861  0.874669  0.776042  0.461640  0.499173\n",
              "precision  0.108814  0.920616  0.737486  0.415455  0.365605\n",
              "f1_score   0.163644  0.847508  0.716847  0.349055  0.389050"
            ]
          },
          "execution_count": 20,
          "metadata": {},
          "output_type": "execute_result"
        }
      ],
      "source": [
        "# Convert the dict to a datafrmae\n",
        "import pandas as pd\n",
        "all_model_performance_df = pd.DataFrame(model_validation_performance_all_folds)\n",
        "all_model_performance_df"
      ]
    },
    {
      "cell_type": "code",
      "execution_count": 21,
      "metadata": {},
      "outputs": [
        {
          "data": {
            "text/plain": [
              "Text(0, 0.5, 'Performance measure')"
            ]
          },
          "execution_count": 21,
          "metadata": {},
          "output_type": "execute_result"
        },
        {
          "data": {
            "image/png": "[encoded data removed]",
            "text/plain": [
              "<Figure size 864x504 with 1 Axes>"
            ]
          },
          "metadata": {
            "needs_background": "light"
          },
          "output_type": "display_data"
        }
      ],
      "source": [
        "# Plot the performance values in bar chart\n",
        "from matplotlib import pyplot as plt\n",
        "plt.rcParams[\"font.family\"] = \"Times New Roman\"\n",
        "plt.rcParams[\"font.size\"] = \"16\"\n",
        "plt.rcParams[\"figure.figsize\"] = (12,7)\n",
        "\n",
        "all_model_performance_df.plot.bar(rot=0)\n",
        "plt.title('All model average performance for all folds', )\n",
        "plt.xlabel(\"Metric\")\n",
        "plt.ylabel(\"Performance measure\")\n"
      ]
    },
    {
      "cell_type": "markdown",
      "metadata": {},
      "source": [
        "# Pick best models as the final models "
      ]
    },
    {
      "cell_type": "code",
      "execution_count": 22,
      "metadata": {},
      "outputs": [
        {
          "name": "stdout",
          "output_type": "stream",
          "text": [
            "model_2    0.847508\n",
            "model_3    0.716847\n",
            "model_5    0.389050\n",
            "Name: f1_score, dtype: float64\n",
            "*** The best 3 models ***\n",
            "['model_2', 'model_3', 'model_5']\n"
          ]
        }
      ],
      "source": [
        "# The top N models to use in the final ensemble. This value should be less than the number of total models used (e.g., 5)\n",
        "best_n = 3 # Here, we are picking the top 3 models out of 5 models. This value can be changed depnding on how many models you want to keep!\n",
        "target_performance_metric = 'f1_score' # This can be changed to accuracy or precision also, depending on the goal of the task!\n",
        "best_n_models = all_model_performance_df.loc[target_performance_metric].sort_values(ascending=False)[:best_n]\n",
        "print(best_n_models) # Printing the best models' performance values (i.e., f1_score)\n",
        "print(\"*** The best\", best_n, \"models ***\")\n",
        "best_n_models = list(best_n_models.index)\n",
        "print(best_n_models) # Printing the names of the top models"
      ]
    },
    {
      "cell_type": "markdown",
      "metadata": {
        "id": "AvIlpPcxqaf3"
      },
      "source": [
        "# Test phase"
      ]
    },
    {
      "cell_type": "code",
      "execution_count": 23,
      "metadata": {
        "colab": {
          "base_uri": "https://localhost:8080/"
        },
        "id": "doo1xZFqqW1H",
        "outputId": "c91d9f79-7ec3-4a9e-86a2-c0c18601ecf6"
      },
      "outputs": [
        {
          "name": "stdout",
          "output_type": "stream",
          "text": [
            "============= TEST RESULTS ============\n",
            "Found 45 images belonging to 3 classes.\n",
            "model_2\n",
            "1/1 [==============================] - 0s 471ms/step\n",
            "Accuracy  : 0.9777777777777777\n",
            "Precision : 0.9791666666666666\n",
            "f1Score : 0.9777530589543938\n",
            "[[15  0  0]\n",
            " [ 0 15  0]\n",
            " [ 0  1 14]]\n",
            "model_3\n",
            "1/1 [==============================] - 2s 2s/step\n",
            "Accuracy  : 0.9777777777777777\n",
            "Precision : 0.9791666666666666\n",
            "f1Score : 0.9777530589543938\n",
            "[[15  0  0]\n",
            " [ 0 15  0]\n",
            " [ 1  0 14]]\n",
            "model_5\n",
            "1/1 [==============================] - 1s 809ms/step\n",
            "Accuracy  : 0.9111111111111111\n",
            "Precision : 0.9163398692810457\n",
            "f1Score : 0.9109126984126985\n",
            "[[13  2  0]\n",
            " [ 0 13  2]\n",
            " [ 0  0 15]]\n",
            "*** Ensemble soft voting performance ***\n",
            "Accuracy  : 1.0\n",
            "Precision : 1.0\n",
            "f1Score : 1.0\n",
            "[[15  0  0]\n",
            " [ 0 15  0]\n",
            " [ 0  0 15]]\n"
          ]
        }
      ],
      "source": [
        "print(\"============= TEST RESULTS ============\")\n",
        "test_generator = test_datagen.flow_from_directory(\n",
        "    test_path,\n",
        "    target_size=(img_rows, img_cols),\n",
        "    batch_size=batch_size,\n",
        "    class_mode=None,\n",
        "    shuffle=False \n",
        ")\n",
        "true_classes = test_generator.classes\n",
        "best_n_model_y_preds = []\n",
        "\n",
        "# Get the predictions of each model and check individual model's performance\n",
        "for model in best_n_models:\n",
        "    print(model)\n",
        "    predictions = all_models[model].predict(test_generator, verbose=1)\n",
        "    best_n_model_y_preds.append(predictions)\n",
        "    y_predictions = np.argmax(predictions, axis=1)\n",
        "    my_metrics(true_classes, y_predictions)\n",
        "    \n",
        "# Use the soft voting ensemble technique (by taking the average of the model's predicted probability)\n",
        "y_predicted_probabilites_ensemble = np.mean(best_n_model_y_preds, axis=0) \n",
        "y_predictions_ensemble = np.argmax(y_predicted_probabilites_ensemble, axis=1)\n",
        "print('*** Ensemble soft voting performance ***')\n",
        "test_acc, test_prec, test_fScore = my_metrics(true_classes, y_predictions_ensemble)\n"
      ]
    }
  ],
  "metadata": {
    "accelerator": "GPU",
    "colab": {
      "collapsed_sections": [],
      "name": "stratified-K-fold-CV.ipynb",
      "provenance": []
    },
    "kernelspec": {
      "display_name": "Python 3.7.11 ('deeplearning')",
      "language": "python",
      "name": "python3"
    },
    "language_info": {
      "codemirror_mode": {
        "name": "ipython",
        "version": 3
      },
      "file_extension": ".py",
      "mimetype": "text/x-python",
      "name": "python",
      "nbconvert_exporter": "python",
      "pygments_lexer": "ipython3",
      "version": "3.7.11"
    },
    "vscode": {
      "interpreter": {
        "hash": "94d6c109392c71b662221930059c91b3f76abbd2cf09d0c9ff25a72281299be0"
      }
    }
  },
  "nbformat": 4,
  "nbformat_minor": 0
}
